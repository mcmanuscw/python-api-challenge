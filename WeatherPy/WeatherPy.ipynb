{
 "cells": [
  {
   "cell_type": "markdown",
   "metadata": {},
   "source": [
    "# WeatherPy\n",
    "----\n",
    "\n",
    "#### Note\n",
    "* Instructions have been included for each segment. You do not have to follow them exactly, but they are included to help you think through the steps."
   ]
  },
  {
   "cell_type": "code",
   "execution_count": 5,
   "metadata": {
    "scrolled": true
   },
   "outputs": [],
   "source": [
    "# Dependencies and Setup\n",
    "import matplotlib.pyplot as plt\n",
    "import json\n",
    "import pandas as pd\n",
    "import numpy as np\n",
    "import requests\n",
    "import time\n",
    "from scipy.stats import linregress\n",
    "# Import API key\n",
    "from api_keys import weather_api_key\n",
    "\n",
    "# Incorporated citipy to determine city based on latitude and longitude\n",
    "# using this to generate the list of cities  below\n",
    "from citipy import citipy\n",
    "\n",
    "# Output File (CSV)\n",
    "output_data_file = \"../output_data/cities.csv\"\n",
    "\n",
    "# Range of latitudes and longitudes\n",
    "lat_range = (-90, 90)\n",
    "lng_range = (-180, 180)"
   ]
  },
  {
   "cell_type": "markdown",
   "metadata": {},
   "source": [
    "## Generate Cities List"
   ]
  },
  {
   "cell_type": "code",
   "execution_count": 6,
   "metadata": {},
   "outputs": [
    {
     "data": {
      "text/plain": [
       "599"
      ]
     },
     "execution_count": 6,
     "metadata": {},
     "output_type": "execute_result"
    }
   ],
   "source": [
    "# Initialize lists and variables for holding lat_lngs and cities\n",
    "lat_lngs = []\n",
    "cities = []\n",
    "\n",
    "# Create a set of random lat and lng combinations\n",
    "lats = np.random.uniform(lat_range[0], lat_range[1], size=1500)\n",
    "lngs = np.random.uniform(lng_range[0], lng_range[1], size=1500)\n",
    "lat_lngs = zip(lats, lngs)\n",
    "\n",
    "# Identify nearest city for each lat, lng combination\n",
    "for lat_lng in lat_lngs:\n",
    "    city = citipy.nearest_city(lat_lng[0], lat_lng[1]).city_name\n",
    "    \n",
    "    # If the city is unique, then add it to a our cities list\n",
    "    if city not in cities:\n",
    "        cities.append(city)\n",
    "\n",
    "# Print the city count to confirm sufficient count\n",
    "len(cities)\n",
    "\n",
    "# #for testing we are going to use a smaller set of names; drop this once the code is good\n",
    "# cities = [\"Paris\", \"London\", \"Oslo\", \"Beijing\", \"Mumbai\", \"Manila\", \"New York\", \"Seattle\", \"Dallas\", \"Taipei\"]\n",
    "\n",
    "# # Print the city count to confirm sufficient count\n",
    "len(cities)\n"
   ]
  },
  {
   "cell_type": "markdown",
   "metadata": {},
   "source": [
    "### Perform API Calls\n",
    "* Perform a weather check on each city using a series of successive API calls.\n",
    "* Include a print log of each city as it'sbeing processed (with the city number and city name).\n"
   ]
  },
  {
   "cell_type": "code",
   "execution_count": 7,
   "metadata": {},
   "outputs": [],
   "source": [
    "#Home 40.0416, 75.3699\n",
    "\n",
    "# Save config information from  https://openweathermap.org/current#data\n",
    "# Save config information\n",
    "base_url = f\"http://api.openweathermap.org/data/2.5/weather?appid={weather_api_key}&units=imperial&q=\"\n",
    "units = \"Imperial\" #metric\n",
    "\n",
    "# Comment out after testing\n",
    "#city_testing = \"New York\" # for testing\n",
    "\n",
    "# Build query URL\n",
    "#url = base_url + city_testing\n",
    "url = base_url\n",
    "\n",
    "\n",
    "#print(url)"
   ]
  },
  {
   "cell_type": "code",
   "execution_count": 8,
   "metadata": {},
   "outputs": [],
   "source": [
    "# Initialize lists to loop through cities data and make api calls\n",
    "\n",
    "# set up lists to hold reponse info\n",
    "city_name = []\n",
    "city_number = []\n",
    "lat = []\n",
    "lon = []\n",
    "temp = []\n",
    "humidity = []\n",
    "wind = []\n",
    "clouds = []\n",
    "country = []\n",
    "date = []"
   ]
  },
  {
   "cell_type": "code",
   "execution_count": 9,
   "metadata": {},
   "outputs": [],
   "source": [
    "# set counters to batch out  / delay for processing\n",
    "counter = 0\n",
    "set_counter = 1         \n",
    "#next_counter = 0\n",
    "counter_cities_analyzed = 0\n",
    "#skip_counter  = 0\n",
    "counter_response_errors  = 0"
   ]
  },
  {
   "cell_type": "code",
   "execution_count": 14,
   "metadata": {},
   "outputs": [],
   "source": [
    "counter_url_print = 1\n"
   ]
  },
  {
   "cell_type": "code",
   "execution_count": 16,
   "metadata": {},
   "outputs": [
    {
     "name": "stdout",
     "output_type": "stream",
     "text": [
      "20: http://api.openweathermap.org/data/2.5/weather?appid=2126a8dfc46686055d87f1210e58a355&units=imperial&q=hobart\n",
      "21: http://api.openweathermap.org/data/2.5/weather?appid=2126a8dfc46686055d87f1210e58a355&units=imperial&q=broome\n",
      "22: http://api.openweathermap.org/data/2.5/weather?appid=2126a8dfc46686055d87f1210e58a355&units=imperial&q=busselton\n",
      "23: http://api.openweathermap.org/data/2.5/weather?appid=2126a8dfc46686055d87f1210e58a355&units=imperial&q=comodoro rivadavia\n",
      "24: http://api.openweathermap.org/data/2.5/weather?appid=2126a8dfc46686055d87f1210e58a355&units=imperial&q=lavrentiya\n",
      "25: http://api.openweathermap.org/data/2.5/weather?appid=2126a8dfc46686055d87f1210e58a355&units=imperial&q=peniche\n",
      "26: http://api.openweathermap.org/data/2.5/weather?appid=2126a8dfc46686055d87f1210e58a355&units=imperial&q=rikitea\n",
      "27: http://api.openweathermap.org/data/2.5/weather?appid=2126a8dfc46686055d87f1210e58a355&units=imperial&q=neepawa\n",
      "28: http://api.openweathermap.org/data/2.5/weather?appid=2126a8dfc46686055d87f1210e58a355&units=imperial&q=hermanus\n",
      "29: http://api.openweathermap.org/data/2.5/weather?appid=2126a8dfc46686055d87f1210e58a355&units=imperial&q=ponta do sol\n",
      "30: http://api.openweathermap.org/data/2.5/weather?appid=2126a8dfc46686055d87f1210e58a355&units=imperial&q=dumai\n",
      "31: http://api.openweathermap.org/data/2.5/weather?appid=2126a8dfc46686055d87f1210e58a355&units=imperial&q=carnarvon\n",
      "32: http://api.openweathermap.org/data/2.5/weather?appid=2126a8dfc46686055d87f1210e58a355&units=imperial&q=albany\n",
      "33: http://api.openweathermap.org/data/2.5/weather?appid=2126a8dfc46686055d87f1210e58a355&units=imperial&q=wilmington\n",
      "34: http://api.openweathermap.org/data/2.5/weather?appid=2126a8dfc46686055d87f1210e58a355&units=imperial&q=mataura\n",
      "35: http://api.openweathermap.org/data/2.5/weather?appid=2126a8dfc46686055d87f1210e58a355&units=imperial&q=esperance\n",
      "36: http://api.openweathermap.org/data/2.5/weather?appid=2126a8dfc46686055d87f1210e58a355&units=imperial&q=longyearbyen\n",
      "37: http://api.openweathermap.org/data/2.5/weather?appid=2126a8dfc46686055d87f1210e58a355&units=imperial&q=pevek\n",
      "38: http://api.openweathermap.org/data/2.5/weather?appid=2126a8dfc46686055d87f1210e58a355&units=imperial&q=illoqqortoormiut\n"
     ]
    }
   ],
   "source": [
    "for city in cities[0:19]:\n",
    "    counter_url_print\n",
    "    print(str(counter_url_print) + \": \" + url + city)\n",
    "    counter_url_print += 1"
   ]
  },
  {
   "cell_type": "code",
   "execution_count": 41,
   "metadata": {},
   "outputs": [],
   "source": [
    "# u = \"http://api.openweathermap.org/data/2.5/weather?appid=2126a8dfc46686055d87f1210e58a355&units=imperial&q=albany\"\n",
    "# weather_response = requests.get(u)\n",
    "# weather_data = weather_response.json()\n"
   ]
  },
  {
   "cell_type": "code",
   "execution_count": 42,
   "metadata": {},
   "outputs": [
    {
     "data": {
      "text/plain": [
       "'Albany'"
      ]
     },
     "execution_count": 42,
     "metadata": {},
     "output_type": "execute_result"
    }
   ],
   "source": [
    "# weather_data['name']"
   ]
  },
  {
   "cell_type": "code",
   "execution_count": 33,
   "metadata": {},
   "outputs": [
    {
     "name": "stdout",
     "output_type": "stream",
     "text": [
      "ixtapa not found.  Go to the next city...\n",
      "vostok not found.  Go to the next city...\n",
      "bambous virieux not found.  Go to the next city...\n",
      "hithadhoo not found.  Go to the next city...\n",
      "bendigo not found.  Go to the next city...\n",
      "kuche not found.  Go to the next city...\n",
      "busselton not found.  Go to the next city...\n",
      "katsuura not found.  Go to the next city...\n",
      "saint-philippe not found.  Go to the next city...\n"
     ]
    }
   ],
   "source": [
    "for city in cities[11:20]:\n",
    "    url_city = url + city\n",
    "    weather_response = requests.get(url_city)\n",
    "    weather_data = weather_response.json()\n",
    "\n",
    "    try:\n",
    "        #pause for 30 seconds for every 50 requests  \n",
    "        \n",
    "        if counter > 49: # comment out when testing\n",
    "            counter = 0\n",
    "            set_counter +=1\n",
    "            time.sleep(30)\n",
    "        \n",
    "        city_name.append(weather_data['name'])\n",
    "        city_number.append(weather_data['name'])\n",
    "        lat.append(weather_data['lat'])\n",
    "        lon.append(weather_data['lon'])\n",
    "        temp.append(weather_data['name'])\n",
    "        humidity.append(weather_data['name'])\n",
    "        wind.append(weather_data['name'])\n",
    "        clouds.append(weather_data['name'])\n",
    "        country.append(weather_data['name'])\n",
    "        date.append(weather_data['name'])\n",
    "        \n",
    "        print(f\"Processing {counter} of Set {counter_cities_analyzed} | {city_name}\")\n",
    "\n",
    "        # Increment the count for the records processed \n",
    "        counter += 1\n",
    "        counter_cities_analyzed += 1\n",
    "\n",
    "    except (KeyError, IndexError):\n",
    "\n",
    "        #For cities without API data\n",
    "        print(f\"{city} not found.  Go to the next city...\")"
   ]
  },
  {
   "cell_type": "code",
   "execution_count": null,
   "metadata": {},
   "outputs": [],
   "source": [
    "#Upon completion         \n",
    "print (\"===================================================================================\")        \n",
    "print (f\"Number of Citites Analyzed: {counter_cities_analyzed}\")\n",
    "print (f\"Number of Cities Not Found: {counter_response_errors}\")"
   ]
  },
  {
   "cell_type": "code",
   "execution_count": null,
   "metadata": {},
   "outputs": [],
   "source": [
    "temp"
   ]
  },
  {
   "cell_type": "code",
   "execution_count": null,
   "metadata": {},
   "outputs": [],
   "source": []
  },
  {
   "cell_type": "code",
   "execution_count": null,
   "metadata": {},
   "outputs": [],
   "source": []
  },
  {
   "cell_type": "code",
   "execution_count": null,
   "metadata": {},
   "outputs": [],
   "source": []
  },
  {
   "cell_type": "code",
   "execution_count": null,
   "metadata": {
    "scrolled": true
   },
   "outputs": [],
   "source": [
    "\n",
    "\n",
    "# Loop through the list of cities and perform a request for data on each\n",
    "for city in cities:\n",
    "    response = requests.get(mod_url + \"&q=\" + city).json()\n",
    "    city_number.append(response['id'])\n",
    "    city_name.append(response['name'])\n",
    "    lat.append(response['coord']['lat'])\n",
    "    lon.append(response['coord']['lon'])\n",
    "    temp.append(response['main']['temp'])\n",
    "    wind.append(response['wind']['speed'])\n",
    "    clouds.append(response[\"clouds\"][\"all\"])\n",
    "    humidity.append(response[\"main\"][\"humidity\"])\n",
    "    \n",
    "    print(f\"Data captured for {city_name} ({city_number})\")\n",
    "\n",
    "\n",
    "# print(f\"The city number info received are: {city_number}\")\n",
    "# print(f\"The city name info received is: {city_name}\")\n",
    "# print(f\"The latitude info received is: {lat}\")\n",
    "# print(f\"The longitude info received is: {lon}\")\n",
    "# print(f\"The temperature info received is: {temp}\")\n",
    "# print(f\"The humidity info received is: {humidity}\")\n",
    "# print(f\"The wind info received is: {wind}\")\n",
    "# print(f\"The clouds info received is: {clouds}\")\n",
    "\n"
   ]
  },
  {
   "cell_type": "code",
   "execution_count": null,
   "metadata": {},
   "outputs": [],
   "source": [
    "print(json.dumps(response, indent=4, sort_keys=True))"
   ]
  },
  {
   "cell_type": "code",
   "execution_count": null,
   "metadata": {},
   "outputs": [],
   "source": [
    "\n",
    "\n"
   ]
  },
  {
   "cell_type": "code",
   "execution_count": null,
   "metadata": {},
   "outputs": [],
   "source": []
  },
  {
   "cell_type": "code",
   "execution_count": null,
   "metadata": {},
   "outputs": [],
   "source": [
    "response_json = (json.dumps(response, indent=5, sort_keys=True))"
   ]
  },
  {
   "cell_type": "code",
   "execution_count": null,
   "metadata": {},
   "outputs": [],
   "source": [
    "#Initialize a new data frame with the columns\n",
    "cities_df = pd.DataFrame(columns=['cities'])\n",
    "    \n",
    "cities_df['cities'] = cities\n",
    "\n",
    "cities_df.head\n"
   ]
  },
  {
   "cell_type": "code",
   "execution_count": null,
   "metadata": {},
   "outputs": [],
   "source": []
  },
  {
   "cell_type": "markdown",
   "metadata": {},
   "source": [
    "### Convert Raw Data to DataFrame\n",
    "* Export the city data into a .csv.\n",
    "* Display the DataFrame"
   ]
  },
  {
   "cell_type": "code",
   "execution_count": null,
   "metadata": {},
   "outputs": [],
   "source": []
  },
  {
   "cell_type": "markdown",
   "metadata": {},
   "source": [
    "## Inspect the data and remove the cities where the humidity > 100%.\n",
    "----\n",
    "Skip this step if there are no cities that have humidity > 100%. "
   ]
  },
  {
   "cell_type": "code",
   "execution_count": null,
   "metadata": {},
   "outputs": [],
   "source": []
  },
  {
   "cell_type": "code",
   "execution_count": null,
   "metadata": {},
   "outputs": [],
   "source": [
    "#  Get the indices of cities that have humidity over 100%.\n"
   ]
  },
  {
   "cell_type": "code",
   "execution_count": null,
   "metadata": {},
   "outputs": [],
   "source": [
    "# Make a new DataFrame equal to the city data to drop all humidity outliers by index.\n",
    "# Passing \"inplace=False\" will make a copy of the city_data DataFrame, which we call \"clean_city_data\".\n"
   ]
  },
  {
   "cell_type": "code",
   "execution_count": null,
   "metadata": {},
   "outputs": [],
   "source": [
    "\n"
   ]
  },
  {
   "cell_type": "markdown",
   "metadata": {},
   "source": [
    "## Plotting the Data\n",
    "* Use proper labeling of the plots using plot titles (including date of analysis) and axes labels.\n",
    "* Save the plotted figures as .pngs."
   ]
  },
  {
   "cell_type": "markdown",
   "metadata": {},
   "source": [
    "## Latitude vs. Temperature Plot"
   ]
  },
  {
   "cell_type": "code",
   "execution_count": null,
   "metadata": {
    "scrolled": true
   },
   "outputs": [],
   "source": []
  },
  {
   "cell_type": "markdown",
   "metadata": {},
   "source": [
    "## Latitude vs. Humidity Plot"
   ]
  },
  {
   "cell_type": "code",
   "execution_count": null,
   "metadata": {},
   "outputs": [],
   "source": []
  },
  {
   "cell_type": "markdown",
   "metadata": {},
   "source": [
    "## Latitude vs. Cloudiness Plot"
   ]
  },
  {
   "cell_type": "code",
   "execution_count": null,
   "metadata": {},
   "outputs": [],
   "source": []
  },
  {
   "cell_type": "markdown",
   "metadata": {},
   "source": [
    "## Latitude vs. Wind Speed Plot"
   ]
  },
  {
   "cell_type": "code",
   "execution_count": null,
   "metadata": {},
   "outputs": [],
   "source": []
  },
  {
   "cell_type": "markdown",
   "metadata": {},
   "source": [
    "## Linear Regression"
   ]
  },
  {
   "cell_type": "code",
   "execution_count": null,
   "metadata": {},
   "outputs": [],
   "source": []
  },
  {
   "cell_type": "markdown",
   "metadata": {},
   "source": [
    "####  Northern Hemisphere - Max Temp vs. Latitude Linear Regression"
   ]
  },
  {
   "cell_type": "code",
   "execution_count": null,
   "metadata": {},
   "outputs": [],
   "source": []
  },
  {
   "cell_type": "markdown",
   "metadata": {},
   "source": [
    "####  Southern Hemisphere - Max Temp vs. Latitude Linear Regression"
   ]
  },
  {
   "cell_type": "code",
   "execution_count": null,
   "metadata": {},
   "outputs": [],
   "source": []
  },
  {
   "cell_type": "markdown",
   "metadata": {},
   "source": [
    "####  Northern Hemisphere - Humidity (%) vs. Latitude Linear Regression"
   ]
  },
  {
   "cell_type": "code",
   "execution_count": null,
   "metadata": {},
   "outputs": [],
   "source": []
  },
  {
   "cell_type": "markdown",
   "metadata": {},
   "source": [
    "####  Southern Hemisphere - Humidity (%) vs. Latitude Linear Regression"
   ]
  },
  {
   "cell_type": "code",
   "execution_count": null,
   "metadata": {},
   "outputs": [],
   "source": []
  },
  {
   "cell_type": "markdown",
   "metadata": {},
   "source": [
    "####  Northern Hemisphere - Cloudiness (%) vs. Latitude Linear Regression"
   ]
  },
  {
   "cell_type": "code",
   "execution_count": null,
   "metadata": {},
   "outputs": [],
   "source": []
  },
  {
   "cell_type": "markdown",
   "metadata": {},
   "source": [
    "####  Southern Hemisphere - Cloudiness (%) vs. Latitude Linear Regression"
   ]
  },
  {
   "cell_type": "code",
   "execution_count": null,
   "metadata": {},
   "outputs": [],
   "source": []
  },
  {
   "cell_type": "markdown",
   "metadata": {},
   "source": [
    "####  Northern Hemisphere - Wind Speed (mph) vs. Latitude Linear Regression"
   ]
  },
  {
   "cell_type": "code",
   "execution_count": null,
   "metadata": {},
   "outputs": [],
   "source": []
  },
  {
   "cell_type": "markdown",
   "metadata": {},
   "source": [
    "####  Southern Hemisphere - Wind Speed (mph) vs. Latitude Linear Regression"
   ]
  },
  {
   "cell_type": "code",
   "execution_count": null,
   "metadata": {},
   "outputs": [],
   "source": []
  },
  {
   "cell_type": "code",
   "execution_count": null,
   "metadata": {},
   "outputs": [],
   "source": []
  }
 ],
 "metadata": {
  "anaconda-cloud": {},
  "kernel_info": {
   "name": "python3"
  },
  "kernelspec": {
   "display_name": "Python 3 (ipykernel)",
   "language": "python",
   "name": "python3"
  },
  "language_info": {
   "codemirror_mode": {
    "name": "ipython",
    "version": 3
   },
   "file_extension": ".py",
   "mimetype": "text/x-python",
   "name": "python",
   "nbconvert_exporter": "python",
   "pygments_lexer": "ipython3",
   "version": "3.8.13"
  },
  "latex_envs": {
   "LaTeX_envs_menu_present": true,
   "autoclose": false,
   "autocomplete": true,
   "bibliofile": "biblio.bib",
   "cite_by": "apalike",
   "current_citInitial": 1,
   "eqLabelWithNumbers": true,
   "eqNumInitial": 1,
   "hotkeys": {
    "equation": "Ctrl-E",
    "itemize": "Ctrl-I"
   },
   "labels_anchors": false,
   "latex_user_defs": false,
   "report_style_numbering": false,
   "user_envs_cfg": false
  },
  "nteract": {
   "version": "0.12.3"
  },
  "vscode": {
   "interpreter": {
    "hash": "28fbf62663af58e83c120b24022b22a4bf7ae7e3f21e1dcc78d79bfe2dce8aef"
   }
  }
 },
 "nbformat": 4,
 "nbformat_minor": 2
}
