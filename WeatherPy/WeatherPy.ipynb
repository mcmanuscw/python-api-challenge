{
 "cells": [
  {
   "cell_type": "markdown",
   "metadata": {},
   "source": [
    "# WeatherPy\n",
    "----\n",
    "\n",
    "#### Note\n",
    "* Instructions have been included for each segment. You do not have to follow them exactly, but they are included to help you think through the steps."
   ]
  },
  {
   "cell_type": "code",
   "execution_count": 61,
   "metadata": {
    "scrolled": true
   },
   "outputs": [],
   "source": [
    "# Dependencies and Setup\n",
    "import matplotlib.pyplot as plt\n",
    "import json\n",
    "import pandas as pd\n",
    "import numpy as np\n",
    "import requests\n",
    "import time\n",
    "from scipy.stats import linregress\n",
    "\n",
    "# Import API key - reads api_keys within the same folder; need ot figure out to read a single file from two different directories\n",
    "from api_keys import weather_api_key\n",
    "\n",
    "# Incorporated citipy to determine city based on latitude and longitude\n",
    "# using this to generate the list of cities  below\n",
    "from citipy import citipy\n",
    "\n",
    "# Output File (CSV)\n",
    "output_data_file = \"../output_data/cities.csv\"\n",
    "\n",
    "# Range of latitudes and longitudes\n",
    "lat_range = (-90, 90)\n",
    "lng_range = (-180, 180)"
   ]
  },
  {
   "cell_type": "markdown",
   "metadata": {},
   "source": [
    "## Generate Cities List"
   ]
  },
  {
   "cell_type": "code",
   "execution_count": 62,
   "metadata": {},
   "outputs": [
    {
     "data": {
      "text/plain": [
       "564"
      ]
     },
     "execution_count": 62,
     "metadata": {},
     "output_type": "execute_result"
    }
   ],
   "source": [
    "# Initialize lists and variables for holding lat_lngs and cities\n",
    "lat_lngs = []\n",
    "cities = []\n",
    "\n",
    "# Create a set of random lat and lng combinations\n",
    "lats = np.random.uniform(lat_range[0], lat_range[1], size=1500)\n",
    "lngs = np.random.uniform(lng_range[0], lng_range[1], size=1500)\n",
    "lat_lngs = zip(lats, lngs)\n",
    "\n",
    "# Identify nearest city for each lat, lng combination\n",
    "for lat_lng in lat_lngs:\n",
    "    city = citipy.nearest_city(lat_lng[0], lat_lng[1]).city_name\n",
    "    \n",
    "    # If the city is unique, then add it to a our cities list\n",
    "    if city not in cities:\n",
    "        cities.append(city)\n",
    "\n",
    "# Print the city count to confirm sufficient count\n",
    "len(cities)\n",
    "\n",
    "# #for testing we are going to use a smaller set of names; drop this once the code is good\n",
    "# cities = [\"Paris\", \"London\", \"Oslo\", \"Beijing\", \"Mumbai\", \"Manila\", \"New York\", \"Seattle\", \"Dallas\", \"Taipei\"]\n",
    "\n",
    "# # Print the city count to confirm sufficient count\n",
    "len(cities)\n"
   ]
  },
  {
   "cell_type": "markdown",
   "metadata": {},
   "source": [
    "### Perform API Calls\n",
    "* Perform a weather check on each city using a series of successive API calls.\n",
    "* Include a print log of each city as it'sbeing processed (with the city number and city name).\n"
   ]
  },
  {
   "cell_type": "code",
   "execution_count": 63,
   "metadata": {},
   "outputs": [],
   "source": [
    "#Home 40.0416, 75.3699\n",
    "\n",
    "# Save config information from  https://openweathermap.org/current#data\n",
    "# Save config information\n",
    "base_url = f\"http://api.openweathermap.org/data/2.5/weather?appid={weather_api_key}&units=imperial&q=\"\n",
    "units = \"Imperial\" #metric\n",
    "\n",
    "# Comment out after testing\n",
    "#city_testing = \"New York\" # for testing\n",
    "\n",
    "# Build query URL\n",
    "#url = base_url + city_testing\n",
    "url = base_url\n",
    "\n",
    "\n",
    "#print(url)"
   ]
  },
  {
   "cell_type": "code",
   "execution_count": 64,
   "metadata": {},
   "outputs": [],
   "source": [
    "# Initialize lists to loop through cities data and make api calls\n",
    "\n",
    "# set up lists to hold reponse info\n",
    "city_name = []\n",
    "city_number = []\n",
    "latitude = []\n",
    "longitude = []\n",
    "temperature = []\n",
    "humidity = []\n",
    "wind = []\n",
    "clouds = []\n",
    "country = []\n",
    "date = []"
   ]
  },
  {
   "cell_type": "code",
   "execution_count": 65,
   "metadata": {},
   "outputs": [],
   "source": [
    "# Initialize counters for loops through multiple cities\n",
    "counter = 0\n",
    "set_counter = 1         \n",
    "\n",
    "counter_cities_analyzed = 0\n",
    "\n",
    "counter_response_errors  = 0"
   ]
  },
  {
   "cell_type": "code",
   "execution_count": 66,
   "metadata": {},
   "outputs": [],
   "source": [
    "# # For testing\n",
    "# counter_url_print = 1\n",
    "\n",
    "# for city in cities[0:19]:\n",
    "#     counter_url_print\n",
    "#     print(str(counter_url_print) + \": \" + url + city)\n",
    "#     counter_url_print += 1"
   ]
  },
  {
   "cell_type": "code",
   "execution_count": 67,
   "metadata": {},
   "outputs": [],
   "source": [
    "# # for testing\n",
    "\n",
    "# u = \"http://api.openweathermap.org/data/2.5/weather?appid=2126a8dfc46686055d87f1210e58a355&units=imperial&q=albany\"\n",
    "# weather_response = requests.get(u)\n",
    "# data = weather_response.json()\n"
   ]
  },
  {
   "cell_type": "code",
   "execution_count": 68,
   "metadata": {},
   "outputs": [],
   "source": [
    "# # For Testing\n",
    "# data"
   ]
  },
  {
   "cell_type": "code",
   "execution_count": 69,
   "metadata": {},
   "outputs": [],
   "source": [
    "# # For Testing\n",
    "# city_name.append(data['name'])\n",
    "# city_number.append(data['id'])\n",
    "# lat.append(data['coord']['lat'])\n",
    "# lon.append(data['coord']['lon'])\n",
    "# temp.append(data['main']['temp_max'])\n",
    "# humidity.append(data['main']['humidity'])\n",
    "# wind.append(data['wind']['speed'])\n",
    "# clouds.append(data['clouds']['all'])\n",
    "# country.append(data['sys']['country'])\n",
    "# date.append(data['dt'])"
   ]
  },
  {
   "cell_type": "code",
   "execution_count": 70,
   "metadata": {},
   "outputs": [
    {
     "name": "stdout",
     "output_type": "stream",
     "text": [
      "Processing 0 of Set 1 | malakal\n",
      "Processing 1 of Set 1 | tazovskiy\n",
      "Processing 2 of Set 1 | mahebourg\n",
      "Processing 3 of Set 1 | port blair\n",
      "Processing 4 of Set 1 | saint-philippe\n",
      "illoqqortoormiut not found...\n",
      "tawkar not found...\n",
      "Processing 5 of Set 1 | figeac\n",
      "Processing 6 of Set 1 | mandalgovi\n",
      "Processing 7 of Set 1 | mataura\n",
      "Processing 8 of Set 1 | kudahuvadhoo\n",
      "marcona not found...\n",
      "Processing 9 of Set 1 | san quintin\n",
      "Processing 10 of Set 1 | upernavik\n",
      "Processing 11 of Set 1 | butaritari\n",
      "Processing 12 of Set 1 | luancheng\n",
      "Processing 13 of Set 1 | roald\n",
      "Processing 14 of Set 1 | port-cartier\n",
      "Processing 15 of Set 1 | cidreira\n",
      "Processing 16 of Set 1 | touros\n",
      "Processing 17 of Set 1 | iskilip\n",
      "Processing 18 of Set 1 | faanui\n",
      "Processing 19 of Set 1 | torbay\n",
      "Processing 20 of Set 1 | atherton\n",
      "Processing 21 of Set 1 | zeya\n",
      "Processing 22 of Set 1 | lakes entrance\n",
      "Processing 23 of Set 1 | anchorage\n",
      "Processing 24 of Set 1 | mayo\n",
      "Processing 25 of Set 1 | hermanus\n",
      "Processing 26 of Set 1 | chapais\n",
      "Processing 27 of Set 1 | paamiut\n",
      "Processing 28 of Set 1 | saldanha\n",
      "Processing 29 of Set 1 | busselton\n",
      "Processing 30 of Set 1 | rikitea\n",
      "Processing 31 of Set 1 | chokurdakh\n",
      "Processing 32 of Set 1 | champerico\n",
      "Processing 33 of Set 1 | te anau\n",
      "Processing 34 of Set 1 | albany\n",
      "Processing 35 of Set 1 | buala\n",
      "Processing 36 of Set 1 | kapaa\n",
      "maykain not found...\n",
      "Processing 37 of Set 1 | hithadhoo\n",
      "Processing 38 of Set 1 | gunnedah\n",
      "Processing 39 of Set 1 | ushuaia\n",
      "Processing 40 of Set 1 | pisco\n",
      "nizhneyansk not found...\n",
      "Processing 41 of Set 1 | cape town\n",
      "Processing 42 of Set 1 | samarai\n",
      "Processing 43 of Set 1 | bowling green\n",
      "sentyabrskiy not found...\n",
      "Processing 44 of Set 1 | mar del plata\n",
      "vaitupu not found...\n",
      "attawapiskat not found...\n",
      "Processing 45 of Set 1 | san patricio\n",
      "addi ugri not found...\n",
      "sorvag not found...\n",
      "Processing 46 of Set 1 | victoria\n",
      "Processing 47 of Set 1 | avarua\n",
      "Processing 48 of Set 1 | ayr\n",
      "Processing 49 of Set 1 | bac lieu\n",
      "Processing 0 of Set 2 | dongsheng\n",
      "Processing 1 of Set 2 | goderich\n",
      "Processing 2 of Set 2 | komsomolskiy\n",
      "Processing 3 of Set 2 | dikson\n",
      "Processing 4 of Set 2 | jamestown\n",
      "taolanaro not found...\n",
      "warqla not found...\n",
      "Processing 5 of Set 2 | port elizabeth\n",
      "Processing 6 of Set 2 | natal\n",
      "Processing 7 of Set 2 | ponta do sol\n",
      "Processing 8 of Set 2 | luderitz\n",
      "Processing 9 of Set 2 | avera\n",
      "Processing 10 of Set 2 | cabo san lucas\n",
      "Processing 11 of Set 2 | carnarvon\n",
      "Processing 12 of Set 2 | ballina\n",
      "Processing 13 of Set 2 | saskylakh\n",
      "Processing 14 of Set 2 | vaini\n",
      "Processing 15 of Set 2 | tiksi\n",
      "Processing 16 of Set 2 | hami\n",
      "Processing 17 of Set 2 | khatanga\n",
      "Processing 18 of Set 2 | kostomuksha\n",
      "Processing 19 of Set 2 | sinnamary\n",
      "Processing 20 of Set 2 | yellowknife\n",
      "Processing 21 of Set 2 | tuktoyaktuk\n",
      "Processing 22 of Set 2 | kahului\n",
      "belushya guba not found...\n",
      "Processing 23 of Set 2 | kalmunai\n",
      "Processing 24 of Set 2 | mao\n",
      "Processing 25 of Set 2 | santa vitoria do palmar\n",
      "Processing 26 of Set 2 | boras\n",
      "Processing 27 of Set 2 | quatre cocos\n",
      "Processing 28 of Set 2 | port alfred\n",
      "Processing 29 of Set 2 | lata\n",
      "Processing 30 of Set 2 | ust-maya\n",
      "Processing 31 of Set 2 | mampong\n",
      "Processing 32 of Set 2 | richards bay\n",
      "Processing 33 of Set 2 | poso\n",
      "Processing 34 of Set 2 | geraldton\n",
      "Processing 35 of Set 2 | qaanaaq\n",
      "Processing 36 of Set 2 | new norfolk\n",
      "Processing 37 of Set 2 | hervey bay\n",
      "Processing 38 of Set 2 | kaitangata\n",
      "Processing 39 of Set 2 | bethel\n",
      "Processing 40 of Set 2 | kodiak\n",
      "Processing 41 of Set 2 | vila velha\n",
      "Processing 42 of Set 2 | sturgeon bay\n",
      "Processing 43 of Set 2 | sao filipe\n",
      "Processing 44 of Set 2 | haines junction\n",
      "Processing 45 of Set 2 | sitka\n",
      "Processing 46 of Set 2 | lebu\n",
      "Processing 47 of Set 2 | severo-kurilsk\n",
      "Processing 48 of Set 2 | ilulissat\n",
      "Processing 49 of Set 2 | rawson\n",
      "Processing 0 of Set 3 | bathsheba\n",
      "Processing 1 of Set 3 | punta arenas\n",
      "Processing 2 of Set 3 | junagarh\n",
      "Processing 3 of Set 3 | katsuura\n",
      "Processing 4 of Set 3 | katherine\n",
      "Processing 5 of Set 3 | bambous virieux\n",
      "mys shmidta not found...\n",
      "Processing 6 of Set 3 | roma\n",
      "Processing 7 of Set 3 | isangel\n",
      "Processing 8 of Set 3 | longyearbyen\n",
      "Processing 9 of Set 3 | beira\n",
      "Processing 10 of Set 3 | miri\n",
      "Processing 11 of Set 3 | springfield\n",
      "palabuhanratu not found...\n",
      "Processing 12 of Set 3 | fortuna\n",
      "Processing 13 of Set 3 | brugg\n",
      "Processing 14 of Set 3 | masaka\n",
      "Processing 15 of Set 3 | fairbanks\n",
      "Processing 16 of Set 3 | the valley\n",
      "anar darreh not found...\n",
      "Processing 17 of Set 3 | biltine\n",
      "umzimvubu not found...\n",
      "Processing 18 of Set 3 | iqaluit\n",
      "Processing 19 of Set 3 | olafsvik\n",
      "Processing 20 of Set 3 | tuatapere\n",
      "Processing 21 of Set 3 | lagoa\n",
      "Processing 22 of Set 3 | bluff\n",
      "Processing 23 of Set 3 | virden\n",
      "Processing 24 of Set 3 | mana\n",
      "Processing 25 of Set 3 | narsaq\n",
      "Processing 26 of Set 3 | kralendijk\n",
      "Processing 27 of Set 3 | saint-joseph\n",
      "Processing 28 of Set 3 | saint george\n",
      "Processing 29 of Set 3 | asau\n",
      "hihifo not found...\n",
      "Processing 30 of Set 3 | hobart\n",
      "villa oliva not found...\n",
      "samalaeulu not found...\n",
      "Processing 31 of Set 3 | half moon bay\n",
      "Processing 32 of Set 3 | georgetown\n",
      "Processing 33 of Set 3 | hualmay\n",
      "Processing 34 of Set 3 | kavaratti\n",
      "Processing 35 of Set 3 | moshi\n",
      "Processing 36 of Set 3 | bredasdorp\n",
      "Processing 37 of Set 3 | hilo\n",
      "Processing 38 of Set 3 | puerto ayora\n",
      "Processing 39 of Set 3 | peniche\n",
      "Processing 40 of Set 3 | mareeba\n",
      "Processing 41 of Set 3 | klaksvik\n",
      "Processing 42 of Set 3 | pailon\n",
      "Processing 43 of Set 3 | inhambane\n",
      "Processing 44 of Set 3 | naryan-mar\n",
      "Processing 45 of Set 3 | port lincoln\n",
      "Processing 46 of Set 3 | lodwar\n",
      "Processing 47 of Set 3 | todos santos\n",
      "Processing 48 of Set 3 | vardo\n",
      "monatele not found...\n",
      "Processing 49 of Set 3 | ternate\n",
      "Processing 0 of Set 4 | ibra\n",
      "Processing 1 of Set 4 | atuona\n",
      "Processing 2 of Set 4 | nikolskoye\n",
      "Processing 3 of Set 4 | east london\n",
      "Processing 4 of Set 4 | okoneshnikovo\n",
      "Processing 5 of Set 4 | filadelfia\n",
      "Processing 6 of Set 4 | mount isa\n",
      "Processing 7 of Set 4 | comodoro rivadavia\n",
      "Processing 8 of Set 4 | dover\n",
      "Processing 9 of Set 4 | nanortalik\n",
      "Processing 10 of Set 4 | aasiaat\n",
      "Processing 11 of Set 4 | severodvinsk\n",
      "Processing 12 of Set 4 | gotha\n",
      "Processing 13 of Set 4 | senigallia\n",
      "Processing 14 of Set 4 | umm lajj\n",
      "Processing 15 of Set 4 | balykshi\n",
      "barentsburg not found...\n",
      "Processing 16 of Set 4 | barreirinhas\n",
      "Processing 17 of Set 4 | ust-uda\n",
      "Processing 18 of Set 4 | togur\n",
      "Processing 19 of Set 4 | ntcheu\n",
      "Processing 20 of Set 4 | lavrentiya\n",
      "Processing 21 of Set 4 | eydhafushi\n",
      "Processing 22 of Set 4 | gotsu\n",
      "Processing 23 of Set 4 | luanda\n",
      "Processing 24 of Set 4 | nasice\n",
      "Processing 25 of Set 4 | naze\n",
      "Processing 26 of Set 4 | molepolole\n",
      "Processing 27 of Set 4 | rock sound\n",
      "Processing 28 of Set 4 | husavik\n",
      "Processing 29 of Set 4 | waingapu\n",
      "Processing 30 of Set 4 | airai\n",
      "Processing 31 of Set 4 | srednekolymsk\n",
      "Processing 32 of Set 4 | macau\n",
      "Processing 33 of Set 4 | darhan\n",
      "Processing 34 of Set 4 | westport\n",
      "Processing 35 of Set 4 | kruisfontein\n",
      "Processing 36 of Set 4 | noumea\n",
      "Processing 37 of Set 4 | bengkulu\n",
      "Processing 38 of Set 4 | boa vista\n",
      "Processing 39 of Set 4 | flin flon\n",
      "Processing 40 of Set 4 | maniitsoq\n",
      "Processing 41 of Set 4 | kavieng\n",
      "Processing 42 of Set 4 | bougouni\n",
      "Processing 43 of Set 4 | tiznit\n",
      "tsihombe not found...\n",
      "Processing 44 of Set 4 | rakaia\n",
      "Processing 45 of Set 4 | samalkha\n",
      "Processing 46 of Set 4 | catumbela\n",
      "Processing 47 of Set 4 | wanning\n",
      "samusu not found...\n",
      "Processing 48 of Set 4 | namibe\n",
      "Processing 49 of Set 4 | seymchan\n",
      "Processing 0 of Set 5 | pevek\n",
      "Processing 1 of Set 5 | encheng\n",
      "Processing 2 of Set 5 | provideniya\n",
      "Processing 3 of Set 5 | palmer\n",
      "Processing 4 of Set 5 | itoigawa\n",
      "Processing 5 of Set 5 | karratha\n",
      "Processing 6 of Set 5 | barrow\n",
      "Processing 7 of Set 5 | manavgat\n",
      "Processing 8 of Set 5 | cherskiy\n",
      "Processing 9 of Set 5 | catamarca\n",
      "Processing 10 of Set 5 | sur\n",
      "Processing 11 of Set 5 | walvis bay\n",
      "amderma not found...\n",
      "Processing 12 of Set 5 | ilheus\n",
      "Processing 13 of Set 5 | oistins\n",
      "Processing 14 of Set 5 | beloha\n",
      "Processing 15 of Set 5 | totesti\n",
      "Processing 16 of Set 5 | norman wells\n",
      "Processing 17 of Set 5 | ixtapa\n",
      "Processing 18 of Set 5 | tocopilla\n",
      "Processing 19 of Set 5 | skibbereen\n",
      "grand river south east not found...\n",
      "Processing 20 of Set 5 | marawi\n",
      "Processing 21 of Set 5 | harper\n",
      "Processing 22 of Set 5 | beringovskiy\n",
      "Processing 23 of Set 5 | apatzingan\n",
      "saleaula not found...\n",
      "Processing 24 of Set 5 | linkou\n",
      "Processing 25 of Set 5 | george town\n",
      "Processing 26 of Set 5 | pokhara\n",
      "Processing 27 of Set 5 | lorengau\n",
      "Processing 28 of Set 5 | forbes\n",
      "Processing 29 of Set 5 | tasiilaq\n",
      "Processing 30 of Set 5 | mabaruma\n",
      "Processing 31 of Set 5 | amudat\n",
      "Processing 32 of Set 5 | batagay-alyta\n",
      "Processing 33 of Set 5 | bakchar\n",
      "Processing 34 of Set 5 | shenjiamen\n",
      "Processing 35 of Set 5 | nome\n",
      "Processing 36 of Set 5 | morondava\n",
      "tumannyy not found...\n",
      "Processing 37 of Set 5 | la ronge\n",
      "Processing 38 of Set 5 | santa cruz de la palma\n",
      "vastervik not found...\n",
      "Processing 39 of Set 5 | tarko-sale\n",
      "Processing 40 of Set 5 | santa maria da vitoria\n",
      "Processing 41 of Set 5 | fond du lac\n",
      "Processing 42 of Set 5 | awjilah\n",
      "Processing 43 of Set 5 | weihe\n",
      "Processing 44 of Set 5 | pacific grove\n",
      "Processing 45 of Set 5 | nouadhibou\n",
      "daxian not found...\n",
      "Processing 46 of Set 5 | ilo\n",
      "Processing 47 of Set 5 | kyren\n",
      "Processing 48 of Set 5 | samarina\n",
      "Processing 49 of Set 5 | dublin\n",
      "Processing 0 of Set 6 | mackenzie\n",
      "Processing 1 of Set 6 | thompson\n",
      "Processing 2 of Set 6 | deputatskiy\n",
      "Processing 3 of Set 6 | gloucester\n",
      "Processing 4 of Set 6 | northam\n",
      "Processing 5 of Set 6 | la cruz\n",
      "Processing 6 of Set 6 | moree\n",
      "Processing 7 of Set 6 | la rioja\n",
      "Processing 8 of Set 6 | vanimo\n",
      "Processing 9 of Set 6 | arraial do cabo\n",
      "Processing 10 of Set 6 | egvekinot\n",
      "Processing 11 of Set 6 | tacoronte\n",
      "Processing 12 of Set 6 | neresnytsya\n",
      "Processing 13 of Set 6 | liuzhou\n",
      "Processing 14 of Set 6 | huilong\n",
      "Processing 15 of Set 6 | lufilufi\n",
      "Processing 16 of Set 6 | sorland\n",
      "Processing 17 of Set 6 | mansa\n",
      "Processing 18 of Set 6 | algiers\n",
      "Processing 19 of Set 6 | hegra\n",
      "Processing 20 of Set 6 | sisimiut\n",
      "Processing 21 of Set 6 | whyalla\n",
      "bolshaya murta not found...\n",
      "Processing 22 of Set 6 | rongcheng\n",
      "Processing 23 of Set 6 | kasongo\n",
      "Processing 24 of Set 6 | victor harbor\n",
      "Processing 25 of Set 6 | chenghai\n",
      "Processing 26 of Set 6 | mwene-ditu\n",
      "Processing 27 of Set 6 | trincomalee\n",
      "Processing 28 of Set 6 | glenwood springs\n",
      "Processing 29 of Set 6 | saint-augustin\n",
      "Processing 30 of Set 6 | castro\n",
      "Processing 31 of Set 6 | port augusta\n",
      "Processing 32 of Set 6 | qaqortoq\n",
      "Processing 33 of Set 6 | sao jose da coroa grande\n",
      "Processing 34 of Set 6 | kendari\n",
      "Processing 35 of Set 6 | fuling\n",
      "Processing 36 of Set 6 | baghdad\n",
      "Processing 37 of Set 6 | codrington\n",
      "Processing 38 of Set 6 | vostok\n",
      "Processing 39 of Set 6 | jumla\n",
      "Processing 40 of Set 6 | portland\n",
      "Processing 41 of Set 6 | bilma\n",
      "Processing 42 of Set 6 | rocha\n",
      "Processing 43 of Set 6 | bani\n",
      "Processing 44 of Set 6 | lumberton\n",
      "Processing 45 of Set 6 | lensk\n",
      "Processing 46 of Set 6 | ewa beach\n",
      "Processing 47 of Set 6 | vestmanna\n",
      "Processing 48 of Set 6 | vinh long\n",
      "Processing 49 of Set 6 | bandar\n",
      "Processing 0 of Set 7 | trapani\n",
      "Processing 1 of Set 7 | babugarh\n",
      "Processing 2 of Set 7 | caucaia\n",
      "Processing 3 of Set 7 | leshukonskoye\n",
      "Processing 4 of Set 7 | suoyarvi\n",
      "Processing 5 of Set 7 | medicine hat\n",
      "grand centre not found...\n",
      "Processing 6 of Set 7 | corinto\n",
      "Processing 7 of Set 7 | carballo\n",
      "Processing 8 of Set 7 | belaya gora\n",
      "Processing 9 of Set 7 | sidrolandia\n",
      "Processing 10 of Set 7 | alice springs\n",
      "Processing 11 of Set 7 | kenai\n",
      "Processing 12 of Set 7 | kamina\n",
      "Processing 13 of Set 7 | dingle\n",
      "Processing 14 of Set 7 | mount gambier\n",
      "Processing 15 of Set 7 | santa isabel do rio negro\n",
      "haibowan not found...\n",
      "Processing 16 of Set 7 | la asuncion\n",
      "Processing 17 of Set 7 | karad\n",
      "Processing 18 of Set 7 | bay roberts\n",
      "Processing 19 of Set 7 | poum\n",
      "Processing 20 of Set 7 | rosarito\n",
      "Processing 21 of Set 7 | taggia\n",
      "Processing 22 of Set 7 | uglekamensk\n",
      "Processing 23 of Set 7 | yauya\n",
      "Processing 24 of Set 7 | kununurra\n",
      "Processing 25 of Set 7 | tiarei\n",
      "Processing 26 of Set 7 | calvinia\n",
      "Processing 27 of Set 7 | salalah\n",
      "Processing 28 of Set 7 | villa carlos paz\n",
      "Processing 29 of Set 7 | dire dawa\n",
      "Processing 30 of Set 7 | marks\n",
      "Processing 31 of Set 7 | gashua\n",
      "Processing 32 of Set 7 | ribeira grande\n",
      "Processing 33 of Set 7 | ontario\n",
      "Processing 34 of Set 7 | kushima\n",
      "Processing 35 of Set 7 | alofi\n",
      "Processing 36 of Set 7 | bambanglipuro\n",
      "Processing 37 of Set 7 | juneau\n",
      "Processing 38 of Set 7 | namatanai\n",
      "Processing 39 of Set 7 | storslett\n",
      "Processing 40 of Set 7 | mastic beach\n",
      "Processing 41 of Set 7 | halvad\n",
      "Processing 42 of Set 7 | kilindoni\n",
      "Processing 43 of Set 7 | rio grande\n",
      "Processing 44 of Set 7 | almaznyy\n",
      "Processing 45 of Set 7 | jibuti\n",
      "Processing 46 of Set 7 | gravdal\n",
      "Processing 47 of Set 7 | sola\n",
      "Processing 48 of Set 7 | fare\n",
      "Processing 49 of Set 7 | mushie\n",
      "Processing 0 of Set 8 | the pas\n",
      "Processing 1 of Set 8 | talnakh\n",
      "Processing 2 of Set 8 | ulladulla\n",
      "Processing 3 of Set 8 | porto santo\n",
      "Processing 4 of Set 8 | laval\n",
      "Processing 5 of Set 8 | nan\n",
      "Processing 6 of Set 8 | nizwa\n",
      "Processing 7 of Set 8 | manggar\n",
      "Processing 8 of Set 8 | waitati\n",
      "Processing 9 of Set 8 | imphal\n",
      "Processing 10 of Set 8 | korla\n",
      "Processing 11 of Set 8 | hailey\n",
      "Processing 12 of Set 8 | araouane\n",
      "Processing 13 of Set 8 | toora-khem\n",
      "Processing 14 of Set 8 | honiara\n",
      "Processing 15 of Set 8 | magalia\n",
      "Processing 16 of Set 8 | frontera\n",
      "Processing 17 of Set 8 | meulaboh\n",
      "Processing 18 of Set 8 | bemidji\n",
      "Processing 19 of Set 8 | nuoro\n",
      "Processing 20 of Set 8 | kaeo\n",
      "Processing 21 of Set 8 | sept-iles\n",
      "Processing 22 of Set 8 | port-gentil\n",
      "Processing 23 of Set 8 | baykit\n",
      "Processing 24 of Set 8 | tezu\n",
      "Processing 25 of Set 8 | broome\n",
      "Processing 26 of Set 8 | mandal\n",
      "zhitikara not found...\n",
      "Processing 27 of Set 8 | clyde river\n",
      "Processing 28 of Set 8 | san jeronimo\n",
      "Processing 29 of Set 8 | anadyr\n",
      "Processing 30 of Set 8 | bealanana\n",
      "Processing 31 of Set 8 | satipo\n",
      "Processing 32 of Set 8 | nioro\n",
      "Processing 33 of Set 8 | mahajanga\n",
      "Processing 34 of Set 8 | san vicente\n",
      "Processing 35 of Set 8 | hasaki\n",
      "Processing 36 of Set 8 | krasnoselkup\n",
      "Processing 37 of Set 8 | nara\n",
      "Processing 38 of Set 8 | bahia honda\n",
      "Processing 39 of Set 8 | qasigiannguit\n",
      "Processing 40 of Set 8 | kokkola\n",
      "Processing 41 of Set 8 | tautira\n",
      "Processing 42 of Set 8 | tual\n",
      "Processing 43 of Set 8 | grand gaube\n",
      "Processing 44 of Set 8 | greytown\n",
      "ambodifototra not found...\n",
      "Processing 45 of Set 8 | shimoda\n",
      "Processing 46 of Set 8 | san ramon\n",
      "Processing 47 of Set 8 | umba\n",
      "Processing 48 of Set 8 | miramar\n",
      "Processing 49 of Set 8 | antsohihy\n",
      "Processing 0 of Set 9 | englehart\n",
      "Processing 1 of Set 9 | vila franca do campo\n",
      "Processing 2 of Set 9 | mogadishu\n",
      "Processing 3 of Set 9 | borodino\n",
      "Processing 4 of Set 9 | havelock\n",
      "Processing 5 of Set 9 | smithers\n",
      "Processing 6 of Set 9 | agucadoura\n",
      "Processing 7 of Set 9 | abilene\n",
      "Processing 8 of Set 9 | udachnyy\n",
      "Processing 9 of Set 9 | cockburn town\n",
      "Processing 10 of Set 9 | constantine\n",
      "Processing 11 of Set 9 | bilibino\n",
      "Processing 12 of Set 9 | shitkino\n",
      "Processing 13 of Set 9 | kingaroy\n",
      "afgoye not found...\n",
      "Processing 14 of Set 9 | seoul\n",
      "Processing 15 of Set 9 | hofn\n",
      "Processing 16 of Set 9 | henties bay\n",
      "Processing 17 of Set 9 | soloneshnoye\n",
      "Processing 18 of Set 9 | matagami\n",
      "Processing 19 of Set 9 | vestmannaeyjar\n",
      "mahadday weyne not found...\n",
      "Processing 20 of Set 9 | moose factory\n",
      "Processing 21 of Set 9 | dolinsk\n",
      "Processing 22 of Set 9 | vanavara\n",
      "Processing 23 of Set 9 | uusikaupunki\n",
      "Processing 24 of Set 9 | ahipara\n",
      "Processing 25 of Set 9 | tsumeb\n",
      "Processing 26 of Set 9 | devonport\n",
      "Processing 27 of Set 9 | porto seguro\n",
      "Processing 28 of Set 9 | lompoc\n",
      "Processing 29 of Set 9 | pushkino\n",
      "Processing 30 of Set 9 | mehamn\n",
      "Processing 31 of Set 9 | chanika\n",
      "Processing 32 of Set 9 | esperance\n",
      "nam tha not found...\n",
      "Processing 33 of Set 9 | opuwo\n",
      "Processing 34 of Set 9 | moranbah\n",
      "Processing 35 of Set 9 | impfondo\n",
      "Processing 36 of Set 9 | ravar\n",
      "Processing 37 of Set 9 | tessalit\n",
      "tarudant not found...\n",
      "Processing 38 of Set 9 | galveston\n",
      "Processing 39 of Set 9 | kijang\n",
      "Processing 40 of Set 9 | aubenas\n",
      "Processing 41 of Set 9 | ostrovnoy\n",
      "Processing 42 of Set 9 | broken hill\n",
      "Processing 43 of Set 9 | somerset east\n",
      "Processing 44 of Set 9 | biak\n",
      "masandra not found...\n",
      "bargal not found...\n",
      "Processing 45 of Set 9 | stykkisholmur\n",
      "Processing 46 of Set 9 | oksfjord\n",
      "Processing 47 of Set 9 | shahrud\n",
      "Processing 48 of Set 9 | rorvik\n",
      "Processing 49 of Set 9 | puerto escondido\n",
      "Processing 0 of Set 10 | pirovskoye\n",
      "Processing 1 of Set 10 | cobija\n",
      "Processing 2 of Set 10 | oranjestad\n",
      "Processing 3 of Set 10 | sambava\n",
      "Processing 4 of Set 10 | villa bruzual\n",
      "Processing 5 of Set 10 | garden city\n",
      "Processing 6 of Set 10 | jacqueville\n",
      "Processing 7 of Set 10 | fitiai\n",
      "Processing 8 of Set 10 | baksheyevo\n",
      "Processing 9 of Set 10 | linxia\n",
      "Processing 10 of Set 10 | yar-sale\n",
      "Processing 11 of Set 10 | hambantota\n",
      "Processing 12 of Set 10 | santa ana arriba\n",
      "Processing 13 of Set 10 | san juan bautista\n",
      "turtkul not found...\n",
      "Processing 14 of Set 10 | okha\n",
      "Processing 15 of Set 10 | banda aceh\n",
      "Processing 16 of Set 10 | sokolo\n",
      "Processing 17 of Set 10 | santa rosa del sur\n",
      "Processing 18 of Set 10 | santa cruz de tenerife\n",
      "Processing 19 of Set 10 | lubao\n",
      "Processing 20 of Set 10 | coihaique\n",
      "Processing 21 of Set 10 | roswell\n",
      "Processing 22 of Set 10 | margate\n",
      "Processing 23 of Set 10 | yerbogachen\n",
      "Processing 24 of Set 10 | lethem\n",
      "Processing 25 of Set 10 | itarema\n",
      "jubb jannin not found...\n",
      "Processing 26 of Set 10 | leningradskiy\n",
      "Processing 27 of Set 10 | pangnirtung\n",
      "Processing 28 of Set 10 | jennings\n",
      "Processing 29 of Set 10 | labrea\n",
      "Processing 30 of Set 10 | caledon east\n",
      "Processing 31 of Set 10 | bushehr\n",
      "Processing 32 of Set 10 | eregli\n",
      "Processing 33 of Set 10 | raudeberg\n",
      "Processing 34 of Set 10 | winnemucca\n",
      "Processing 35 of Set 10 | moroni\n",
      "Processing 36 of Set 10 | san cristobal\n",
      "Processing 37 of Set 10 | maragogi\n",
      "Processing 38 of Set 10 | alyangula\n",
      "Processing 39 of Set 10 | porto novo\n",
      "Processing 40 of Set 10 | souillac\n",
      "Processing 41 of Set 10 | sibolga\n",
      "Processing 42 of Set 10 | panguna\n",
      "Processing 43 of Set 10 | tahoua\n",
      "Processing 44 of Set 10 | chuy\n",
      "Processing 45 of Set 10 | cabinda\n",
      "Processing 46 of Set 10 | llaillay\n",
      "Processing 47 of Set 10 | kargopol\n",
      "Processing 48 of Set 10 | evensk\n",
      "Processing 49 of Set 10 | bud\n",
      "Processing 0 of Set 11 | matelandia\n",
      "Processing 1 of Set 11 | praia da vitoria\n",
      "Processing 2 of Set 11 | vila\n",
      "Processing 3 of Set 11 | pavlodar\n",
      "Processing 4 of Set 11 | zhangye\n",
      "chagda not found...\n",
      "Processing 5 of Set 11 | riyadh\n",
      "Processing 6 of Set 11 | makokou\n",
      "Processing 7 of Set 11 | agirish\n",
      "Processing 8 of Set 11 | lodja\n",
      "Processing 9 of Set 11 | biga\n",
      "Processing 10 of Set 11 | yanji\n",
      "Processing 11 of Set 11 | rio gallegos\n",
      "Processing 12 of Set 11 | kieta\n",
      "Processing 13 of Set 11 | banjar\n",
      "Processing 14 of Set 11 | umea\n",
      "Processing 15 of Set 11 | ramshir\n",
      "Processing 16 of Set 11 | yenagoa\n",
      "Processing 17 of Set 11 | vidalia\n",
      "Processing 18 of Set 11 | sibagat\n",
      "Processing 19 of Set 11 | sabang\n"
     ]
    }
   ],
   "source": [
    "# API only allows 1,000 trips per day; therefore a mechanism to limit the number of requests for testing \n",
    "# KM Cooper helped me with the try and except logic\n",
    "# for city in cities[0:52]: # to test a limited number of records\n",
    "for city in cities:\n",
    "    url_city = url + city\n",
    "    weather_response = requests.get(url_city)\n",
    "    data = weather_response.json()\n",
    "\n",
    "    try:\n",
    "        #pause for 30 seconds for every 50 requests  to allow for processing\n",
    "        if counter > 49: # comment out when testing\n",
    "            counter = 0\n",
    "            set_counter +=1\n",
    "            time.sleep(30)\n",
    "        \n",
    "        # Read JSON and append values to lists\n",
    "        city_name.append(data['name'])\n",
    "        city_number.append(data['id'])\n",
    "        latitude.append(data['coord']['lat'])\n",
    "        longitude.append(data['coord']['lon'])\n",
    "        temperature.append(data['main']['temp_max'])\n",
    "        humidity.append(data['main']['humidity'])\n",
    "        wind.append(data['wind']['speed'])\n",
    "        clouds.append(data['clouds']['all'])\n",
    "        country.append(data['sys']['country'])\n",
    "        date.append(data['dt'])\n",
    "            \n",
    "        print(f\"Processing {counter} of Set {set_counter} | {city}\")\n",
    "\n",
    "        # Increment the count for the records processed \n",
    "        counter += 1\n",
    "        counter_cities_analyzed += 1\n",
    "\n",
    "    except (KeyError, IndexError):\n",
    "\n",
    "        #For cities without API data\n",
    "        print(f\"{city} not found...\")\n",
    "        counter_response_errors += 1"
   ]
  },
  {
   "cell_type": "code",
   "execution_count": 71,
   "metadata": {},
   "outputs": [
    {
     "name": "stdout",
     "output_type": "stream",
     "text": [
      "- - - - - - - - - - - - - - - - - - - - - - - - - - - - -\n",
      "Count of Cities Analyzed: 520\n",
      "Count of Cities Not Found: 44\n",
      "- - - - - - - - - - - - - - - - - - - - - - - - - - - - -\n"
     ]
    }
   ],
   "source": [
    "#Upon completion create summary values         \n",
    "print (\"- - - - - - - - - - - - - - - - - - - - - - - - - - - - -\")        \n",
    "print (f\"Count of Cities Analyzed: {counter_cities_analyzed}\")\n",
    "print (f\"Count of Cities Not Found: {counter_response_errors}\")\n",
    "print (\"- - - - - - - - - - - - - - - - - - - - - - - - - - - - -\")        "
   ]
  },
  {
   "cell_type": "code",
   "execution_count": 72,
   "metadata": {},
   "outputs": [],
   "source": [
    "#Create Data Frame\n",
    "city_weather = pd.DataFrame({ \"City\": city_name\n",
    "                       , \"Latitude\"   : latitude\n",
    "                       , \"Longitude\"  : longitude\n",
    "                       , \"Temp\" : temperature\n",
    "                       , \"Humidity\"        : humidity\n",
    "                       , \"Clouds\"  : clouds\n",
    "                       , \"Wind Speed\"      : wind\n",
    "                       , \"Country\"    : country\n",
    "                       , \"Date\"   : date})\n",
    "\n",
    "city_weather.index.name = \"City_ID\""
   ]
  },
  {
   "cell_type": "markdown",
   "metadata": {},
   "source": [
    "### Convert Raw Data to DataFrame\n",
    "* Export the city data into a .csv.\n",
    "* Display the DataFrame"
   ]
  },
  {
   "cell_type": "code",
   "execution_count": 73,
   "metadata": {},
   "outputs": [
    {
     "data": {
      "text/html": [
       "<div>\n",
       "<style scoped>\n",
       "    .dataframe tbody tr th:only-of-type {\n",
       "        vertical-align: middle;\n",
       "    }\n",
       "\n",
       "    .dataframe tbody tr th {\n",
       "        vertical-align: top;\n",
       "    }\n",
       "\n",
       "    .dataframe thead th {\n",
       "        text-align: right;\n",
       "    }\n",
       "</style>\n",
       "<table border=\"1\" class=\"dataframe\">\n",
       "  <thead>\n",
       "    <tr style=\"text-align: right;\">\n",
       "      <th></th>\n",
       "      <th>City</th>\n",
       "      <th>Latitude</th>\n",
       "      <th>Longitude</th>\n",
       "      <th>Temp</th>\n",
       "      <th>Humidity</th>\n",
       "      <th>Clouds</th>\n",
       "      <th>Wind Speed</th>\n",
       "      <th>Country</th>\n",
       "      <th>Date</th>\n",
       "    </tr>\n",
       "    <tr>\n",
       "      <th>City_ID</th>\n",
       "      <th></th>\n",
       "      <th></th>\n",
       "      <th></th>\n",
       "      <th></th>\n",
       "      <th></th>\n",
       "      <th></th>\n",
       "      <th></th>\n",
       "      <th></th>\n",
       "      <th></th>\n",
       "    </tr>\n",
       "  </thead>\n",
       "  <tbody>\n",
       "    <tr>\n",
       "      <th>0</th>\n",
       "      <td>Malakal</td>\n",
       "      <td>9.5334</td>\n",
       "      <td>31.6605</td>\n",
       "      <td>93.63</td>\n",
       "      <td>16</td>\n",
       "      <td>100</td>\n",
       "      <td>7.72</td>\n",
       "      <td>SS</td>\n",
       "      <td>1668175038</td>\n",
       "    </tr>\n",
       "    <tr>\n",
       "      <th>1</th>\n",
       "      <td>Tazovsky</td>\n",
       "      <td>67.4667</td>\n",
       "      <td>78.7000</td>\n",
       "      <td>-5.49</td>\n",
       "      <td>94</td>\n",
       "      <td>5</td>\n",
       "      <td>8.88</td>\n",
       "      <td>RU</td>\n",
       "      <td>1668175038</td>\n",
       "    </tr>\n",
       "    <tr>\n",
       "      <th>2</th>\n",
       "      <td>Mahébourg</td>\n",
       "      <td>-20.4081</td>\n",
       "      <td>57.7000</td>\n",
       "      <td>77.29</td>\n",
       "      <td>73</td>\n",
       "      <td>75</td>\n",
       "      <td>5.75</td>\n",
       "      <td>MU</td>\n",
       "      <td>1668175038</td>\n",
       "    </tr>\n",
       "    <tr>\n",
       "      <th>3</th>\n",
       "      <td>Port Blair</td>\n",
       "      <td>11.6667</td>\n",
       "      <td>92.7500</td>\n",
       "      <td>82.44</td>\n",
       "      <td>78</td>\n",
       "      <td>40</td>\n",
       "      <td>2.30</td>\n",
       "      <td>IN</td>\n",
       "      <td>1668174911</td>\n",
       "    </tr>\n",
       "    <tr>\n",
       "      <th>4</th>\n",
       "      <td>Saint-Philippe</td>\n",
       "      <td>-21.3585</td>\n",
       "      <td>55.7679</td>\n",
       "      <td>78.39</td>\n",
       "      <td>79</td>\n",
       "      <td>52</td>\n",
       "      <td>7.05</td>\n",
       "      <td>RE</td>\n",
       "      <td>1668175039</td>\n",
       "    </tr>\n",
       "    <tr>\n",
       "      <th>...</th>\n",
       "      <td>...</td>\n",
       "      <td>...</td>\n",
       "      <td>...</td>\n",
       "      <td>...</td>\n",
       "      <td>...</td>\n",
       "      <td>...</td>\n",
       "      <td>...</td>\n",
       "      <td>...</td>\n",
       "      <td>...</td>\n",
       "    </tr>\n",
       "    <tr>\n",
       "      <th>515</th>\n",
       "      <td>Rāmshīr</td>\n",
       "      <td>30.8946</td>\n",
       "      <td>49.4092</td>\n",
       "      <td>83.35</td>\n",
       "      <td>34</td>\n",
       "      <td>100</td>\n",
       "      <td>12.62</td>\n",
       "      <td>IR</td>\n",
       "      <td>1668175498</td>\n",
       "    </tr>\n",
       "    <tr>\n",
       "      <th>516</th>\n",
       "      <td>Yenagoa</td>\n",
       "      <td>4.9247</td>\n",
       "      <td>6.2642</td>\n",
       "      <td>86.65</td>\n",
       "      <td>62</td>\n",
       "      <td>100</td>\n",
       "      <td>2.59</td>\n",
       "      <td>NG</td>\n",
       "      <td>1668175498</td>\n",
       "    </tr>\n",
       "    <tr>\n",
       "      <th>517</th>\n",
       "      <td>Vidalia</td>\n",
       "      <td>32.2177</td>\n",
       "      <td>-82.4135</td>\n",
       "      <td>69.91</td>\n",
       "      <td>94</td>\n",
       "      <td>100</td>\n",
       "      <td>16.11</td>\n",
       "      <td>US</td>\n",
       "      <td>1668175499</td>\n",
       "    </tr>\n",
       "    <tr>\n",
       "      <th>518</th>\n",
       "      <td>Sibagat</td>\n",
       "      <td>8.8225</td>\n",
       "      <td>125.6975</td>\n",
       "      <td>73.94</td>\n",
       "      <td>97</td>\n",
       "      <td>100</td>\n",
       "      <td>1.81</td>\n",
       "      <td>PH</td>\n",
       "      <td>1668175499</td>\n",
       "    </tr>\n",
       "    <tr>\n",
       "      <th>519</th>\n",
       "      <td>Sabang</td>\n",
       "      <td>5.8933</td>\n",
       "      <td>95.3214</td>\n",
       "      <td>79.30</td>\n",
       "      <td>81</td>\n",
       "      <td>100</td>\n",
       "      <td>9.98</td>\n",
       "      <td>ID</td>\n",
       "      <td>1668175499</td>\n",
       "    </tr>\n",
       "  </tbody>\n",
       "</table>\n",
       "<p>520 rows × 9 columns</p>\n",
       "</div>"
      ],
      "text/plain": [
       "                   City  Latitude  Longitude   Temp  Humidity  Clouds  \\\n",
       "City_ID                                                                 \n",
       "0               Malakal    9.5334    31.6605  93.63        16     100   \n",
       "1              Tazovsky   67.4667    78.7000  -5.49        94       5   \n",
       "2             Mahébourg  -20.4081    57.7000  77.29        73      75   \n",
       "3            Port Blair   11.6667    92.7500  82.44        78      40   \n",
       "4        Saint-Philippe  -21.3585    55.7679  78.39        79      52   \n",
       "...                 ...       ...        ...    ...       ...     ...   \n",
       "515             Rāmshīr   30.8946    49.4092  83.35        34     100   \n",
       "516             Yenagoa    4.9247     6.2642  86.65        62     100   \n",
       "517             Vidalia   32.2177   -82.4135  69.91        94     100   \n",
       "518             Sibagat    8.8225   125.6975  73.94        97     100   \n",
       "519              Sabang    5.8933    95.3214  79.30        81     100   \n",
       "\n",
       "         Wind Speed Country        Date  \n",
       "City_ID                                  \n",
       "0              7.72      SS  1668175038  \n",
       "1              8.88      RU  1668175038  \n",
       "2              5.75      MU  1668175038  \n",
       "3              2.30      IN  1668174911  \n",
       "4              7.05      RE  1668175039  \n",
       "...             ...     ...         ...  \n",
       "515           12.62      IR  1668175498  \n",
       "516            2.59      NG  1668175498  \n",
       "517           16.11      US  1668175499  \n",
       "518            1.81      PH  1668175499  \n",
       "519            9.98      ID  1668175499  \n",
       "\n",
       "[520 rows x 9 columns]"
      ]
     },
     "execution_count": 73,
     "metadata": {},
     "output_type": "execute_result"
    }
   ],
   "source": [
    "#Export to .csv \n",
    "output_data_file = \"../output_data/cities.csv\"\n",
    "output_path = os.path.join(output_data_file )\n",
    "city_weather.to_csv(output_path,index=\"False\")\n",
    "city_weather"
   ]
  },
  {
   "cell_type": "code",
   "execution_count": null,
   "metadata": {},
   "outputs": [],
   "source": []
  },
  {
   "cell_type": "markdown",
   "metadata": {},
   "source": [
    "## Inspect the data and remove the cities where the humidity > 100%.\n",
    "----\n",
    "Skip this step if there are no cities that have humidity > 100%. "
   ]
  },
  {
   "cell_type": "code",
   "execution_count": 74,
   "metadata": {},
   "outputs": [],
   "source": [
    "#Find cities > 100% Humidity\n",
    "city_humidities = len(city_weather[(city_weather[\"Humidity\"] > 100) ])\n",
    "\n",
    "if city_humidities  > 0:\n",
    "    print (f\"city_humidities: {city_humidities}\")"
   ]
  },
  {
   "cell_type": "code",
   "execution_count": 75,
   "metadata": {},
   "outputs": [
    {
     "data": {
      "text/plain": [
       "520"
      ]
     },
     "execution_count": 75,
     "metadata": {},
     "output_type": "execute_result"
    }
   ],
   "source": [
    "#  Get the indices of cities that have humidity over 100%.\n",
    "#Select only cities with humidity less than or equal to 100\n",
    "clean_city_data = city_weather.loc[ (city_weather[\"Humidity\"] <= 100 ) , :]\n",
    "len(clean_city_data)"
   ]
  },
  {
   "cell_type": "code",
   "execution_count": 76,
   "metadata": {},
   "outputs": [],
   "source": [
    "# Make a new DataFrame equal to the city data to drop all humidity outliers by index.\n",
    "# Passing \"inplace=False\" will make a copy of the city_data DataFrame, which we call \"clean_city_data\".\n",
    "\n",
    "# Specific Date\n",
    "from datetime import date as dt\n",
    "\n",
    "date = pd.to_datetime(clean_city_data[\"Date\"]).dt.date\n",
    "specific_date = date[0:1]\n",
    "\n",
    "for item in specific_date:\n",
    "    date_analysis = str(item)\n"
   ]
  },
  {
   "cell_type": "markdown",
   "metadata": {},
   "source": [
    "## Plotting the Data\n",
    "* Use proper labeling of the plots using plot titles (including date of analysis) and axes labels.\n",
    "* Save the plotted figures as .pngs."
   ]
  },
  {
   "cell_type": "markdown",
   "metadata": {},
   "source": [
    "## Latitude vs. Temperature Plot"
   ]
  },
  {
   "cell_type": "code",
   "execution_count": 78,
   "metadata": {
    "scrolled": true
   },
   "outputs": [
    {
     "data": {
      "image/png": "[encoded data removed]",
      "text/plain": [
       "<Figure size 432x288 with 1 Axes>"
      ]
     },
     "metadata": {
      "needs_background": "light"
     },
     "output_type": "display_data"
    }
   ],
   "source": [
    "plt.scatter(city_weather[\"Latitude\"], city_weather[\"Temp\"], marker=\"o\")\n",
    "\n",
    "plt.title(\"City Latitude vs. Termperatures\")\n",
    "plt.ylabel(\"Temperature (F)\")\n",
    "plt.xlabel(\"Latitude\")\n",
    "plt.grid=True\n",
    "\n",
    "# Save the plot and display it\n",
    "plt.savefig(\"../Images/temps.png\")\n",
    "plt.show()"
   ]
  },
  {
   "cell_type": "markdown",
   "metadata": {},
   "source": [
    "## Latitude vs. Humidity Plot"
   ]
  },
  {
   "cell_type": "code",
   "execution_count": 79,
   "metadata": {},
   "outputs": [
    {
     "data": {
      "image/png": "[encoded data removed]",
      "text/plain": [
       "<Figure size 432x288 with 1 Axes>"
      ]
     },
     "metadata": {
      "needs_background": "light"
     },
     "output_type": "display_data"
    }
   ],
   "source": [
    "plt.scatter(city_weather[\"Latitude\"], city_weather[\"Humidity\"], marker=\"o\")\n",
    "\n",
    "plt.title(\"City Latitude vs. Humidity\")\n",
    "plt.ylabel(\"Humidity\")\n",
    "plt.xlabel(\"Latitude\")\n",
    "plt.grid=True\n",
    "\n",
    "# Save the plot and display it\n",
    "plt.savefig(\"../Images/humiity.png\")\n",
    "plt.show()"
   ]
  },
  {
   "cell_type": "markdown",
   "metadata": {},
   "source": [
    "## Latitude vs. Cloudiness Plot"
   ]
  },
  {
   "cell_type": "code",
   "execution_count": 80,
   "metadata": {},
   "outputs": [
    {
     "data": {
      "image/png": "[encoded data removed]",
      "text/plain": [
       "<Figure size 432x288 with 1 Axes>"
      ]
     },
     "metadata": {
      "needs_background": "light"
     },
     "output_type": "display_data"
    }
   ],
   "source": [
    "plt.scatter(city_weather[\"Latitude\"], city_weather[\"Clouds\"], marker=\"o\")\n",
    "\n",
    "plt.title(\"City Latitude vs. Cloudiness\")\n",
    "plt.ylabel(\"Cloudiness\")\n",
    "plt.xlabel(\"Latitude\")\n",
    "plt.grid=True\n",
    "\n",
    "# Save the plot and display it\n",
    "plt.savefig(\"../Images/clouds.png\")\n",
    "plt.show()"
   ]
  },
  {
   "cell_type": "markdown",
   "metadata": {},
   "source": [
    "## Latitude vs. Wind Speed Plot"
   ]
  },
  {
   "cell_type": "code",
   "execution_count": 82,
   "metadata": {},
   "outputs": [
    {
     "data": {
      "image/png": "[encoded data removed]",
      "text/plain": [
       "<Figure size 432x288 with 1 Axes>"
      ]
     },
     "metadata": {
      "needs_background": "light"
     },
     "output_type": "display_data"
    }
   ],
   "source": [
    "plt.scatter(city_weather[\"Latitude\"], city_weather[\"Wind Speed\"], marker=\"o\")\n",
    "\n",
    "plt.title(\"City Latitude vs. Wind Speed\")\n",
    "plt.ylabel(\"Wind Speed\")\n",
    "plt.xlabel(\"Latitude\")\n",
    "plt.grid=True\n",
    "\n",
    "# Save the plot and display it\n",
    "plt.savefig(\"../Images/wind.png\")\n",
    "plt.show()"
   ]
  },
  {
   "cell_type": "markdown",
   "metadata": {},
   "source": [
    "## Linear Regression"
   ]
  },
  {
   "cell_type": "code",
   "execution_count": 83,
   "metadata": {},
   "outputs": [],
   "source": [
    "north_df = city_weather.loc[pd.to_numeric(city_weather[\"Latitude\"]).astype(float) > 0, :]\n",
    "south_df = city_weather.loc[pd.to_numeric(city_weather[\"Latitude\"]).astype(float) < 0, :]"
   ]
  },
  {
   "cell_type": "code",
   "execution_count": 86,
   "metadata": {},
   "outputs": [
    {
     "data": {
      "text/html": [
       "<div>\n",
       "<style scoped>\n",
       "    .dataframe tbody tr th:only-of-type {\n",
       "        vertical-align: middle;\n",
       "    }\n",
       "\n",
       "    .dataframe tbody tr th {\n",
       "        vertical-align: top;\n",
       "    }\n",
       "\n",
       "    .dataframe thead th {\n",
       "        text-align: right;\n",
       "    }\n",
       "</style>\n",
       "<table border=\"1\" class=\"dataframe\">\n",
       "  <thead>\n",
       "    <tr style=\"text-align: right;\">\n",
       "      <th></th>\n",
       "      <th>City</th>\n",
       "      <th>Latitude</th>\n",
       "      <th>Longitude</th>\n",
       "      <th>Temp</th>\n",
       "      <th>Humidity</th>\n",
       "      <th>Clouds</th>\n",
       "      <th>Wind Speed</th>\n",
       "      <th>Country</th>\n",
       "      <th>Date</th>\n",
       "    </tr>\n",
       "    <tr>\n",
       "      <th>City_ID</th>\n",
       "      <th></th>\n",
       "      <th></th>\n",
       "      <th></th>\n",
       "      <th></th>\n",
       "      <th></th>\n",
       "      <th></th>\n",
       "      <th></th>\n",
       "      <th></th>\n",
       "      <th></th>\n",
       "    </tr>\n",
       "  </thead>\n",
       "  <tbody>\n",
       "    <tr>\n",
       "      <th>0</th>\n",
       "      <td>Malakal</td>\n",
       "      <td>9.5334</td>\n",
       "      <td>31.6605</td>\n",
       "      <td>93.63</td>\n",
       "      <td>16</td>\n",
       "      <td>100</td>\n",
       "      <td>7.72</td>\n",
       "      <td>SS</td>\n",
       "      <td>1668175038</td>\n",
       "    </tr>\n",
       "    <tr>\n",
       "      <th>1</th>\n",
       "      <td>Tazovsky</td>\n",
       "      <td>67.4667</td>\n",
       "      <td>78.7000</td>\n",
       "      <td>-5.49</td>\n",
       "      <td>94</td>\n",
       "      <td>5</td>\n",
       "      <td>8.88</td>\n",
       "      <td>RU</td>\n",
       "      <td>1668175038</td>\n",
       "    </tr>\n",
       "    <tr>\n",
       "      <th>3</th>\n",
       "      <td>Port Blair</td>\n",
       "      <td>11.6667</td>\n",
       "      <td>92.7500</td>\n",
       "      <td>82.44</td>\n",
       "      <td>78</td>\n",
       "      <td>40</td>\n",
       "      <td>2.30</td>\n",
       "      <td>IN</td>\n",
       "      <td>1668174911</td>\n",
       "    </tr>\n",
       "    <tr>\n",
       "      <th>5</th>\n",
       "      <td>Arrondissement de Figeac</td>\n",
       "      <td>44.7500</td>\n",
       "      <td>1.9167</td>\n",
       "      <td>66.76</td>\n",
       "      <td>60</td>\n",
       "      <td>3</td>\n",
       "      <td>7.76</td>\n",
       "      <td>FR</td>\n",
       "      <td>1668175039</td>\n",
       "    </tr>\n",
       "    <tr>\n",
       "      <th>6</th>\n",
       "      <td>Mandalgovi</td>\n",
       "      <td>45.7625</td>\n",
       "      <td>106.2708</td>\n",
       "      <td>20.73</td>\n",
       "      <td>64</td>\n",
       "      <td>0</td>\n",
       "      <td>5.28</td>\n",
       "      <td>MN</td>\n",
       "      <td>1668175039</td>\n",
       "    </tr>\n",
       "  </tbody>\n",
       "</table>\n",
       "</div>"
      ],
      "text/plain": [
       "                             City  Latitude  Longitude   Temp  Humidity  \\\n",
       "City_ID                                                                   \n",
       "0                         Malakal    9.5334    31.6605  93.63        16   \n",
       "1                        Tazovsky   67.4667    78.7000  -5.49        94   \n",
       "3                      Port Blair   11.6667    92.7500  82.44        78   \n",
       "5        Arrondissement de Figeac   44.7500     1.9167  66.76        60   \n",
       "6                      Mandalgovi   45.7625   106.2708  20.73        64   \n",
       "\n",
       "         Clouds  Wind Speed Country        Date  \n",
       "City_ID                                          \n",
       "0           100        7.72      SS  1668175038  \n",
       "1             5        8.88      RU  1668175038  \n",
       "3            40        2.30      IN  1668174911  \n",
       "5             3        7.76      FR  1668175039  \n",
       "6             0        5.28      MN  1668175039  "
      ]
     },
     "execution_count": 86,
     "metadata": {},
     "output_type": "execute_result"
    }
   ],
   "source": [
    "north_df.head()\n"
   ]
  },
  {
   "cell_type": "markdown",
   "metadata": {},
   "source": [
    "####  Northern Hemisphere - Max Temp vs. Latitude Linear Regression"
   ]
  },
  {
   "cell_type": "code",
   "execution_count": 87,
   "metadata": {},
   "outputs": [
    {
     "data": {
      "image/png": "[encoded data removed]",
      "text/plain": [
       "<Figure size 432x288 with 1 Axes>"
      ]
     },
     "metadata": {
      "needs_background": "light"
     },
     "output_type": "display_data"
    }
   ],
   "source": [
    "# Add the linear regression equation and line to plot\n",
    "x_values = north_df['Latitude']\n",
    "y_values = north_df['Temp']\n",
    "(slope, intercept, rvalue, pvalue, stderr) = linregress(x_values, y_values)\n",
    "regress_values = x_values * slope + intercept\n",
    "line_eq = \"y = \" + str(round(slope,2)) + \"x + \" + str(round(intercept,2))\n",
    "plt.scatter(x_values,y_values)\n",
    "plt.plot(x_values,regress_values,\"r-\")\n",
    "plt.annotate(line_eq,(5.8,0.8),fontsize=15,color=\"red\")\n",
    "plt.title(\"Northern Hemisphere - Max Temp vs. Latitude Linear Regression\")\n",
    "plt.xlabel('Latitude')\n",
    "plt.ylabel('Temperature (f)')\n",
    "plt.show()\n",
    "\n",
    "\n"
   ]
  },
  {
   "cell_type": "markdown",
   "metadata": {},
   "source": [
    "####  Southern Hemisphere - Max Temp vs. Latitude Linear Regression"
   ]
  },
  {
   "cell_type": "code",
   "execution_count": 88,
   "metadata": {},
   "outputs": [
    {
     "data": {
      "image/png": "[encoded data removed]",
      "text/plain": [
       "<Figure size 432x288 with 1 Axes>"
      ]
     },
     "metadata": {
      "needs_background": "light"
     },
     "output_type": "display_data"
    }
   ],
   "source": [
    "# Add the linear regression equation and line to plot\n",
    "x_values = south_df['Latitude']\n",
    "y_values = south_df['Temp']\n",
    "(slope, intercept, rvalue, pvalue, stderr) = linregress(x_values, y_values)\n",
    "regress_values = x_values * slope + intercept\n",
    "line_eq = \"y = \" + str(round(slope,2)) + \"x + \" + str(round(intercept,2))\n",
    "plt.scatter(x_values,y_values)\n",
    "plt.plot(x_values,regress_values,\"r-\")\n",
    "plt.annotate(line_eq,(5.8,0.8),fontsize=15,color=\"red\")\n",
    "plt.title('Southern Hemisphere - Max Temp vs. Latitude Linear Regression')\n",
    "plt.xlabel('Latitude')\n",
    "plt.ylabel('Temperature (f)')\n",
    "plt.show()"
   ]
  },
  {
   "cell_type": "markdown",
   "metadata": {},
   "source": [
    "####  Northern Hemisphere - Humidity (%) vs. Latitude Linear Regression"
   ]
  },
  {
   "cell_type": "code",
   "execution_count": 89,
   "metadata": {},
   "outputs": [
    {
     "data": {
      "image/png": "[encoded data removed]",
      "text/plain": [
       "<Figure size 432x288 with 1 Axes>"
      ]
     },
     "metadata": {
      "needs_background": "light"
     },
     "output_type": "display_data"
    }
   ],
   "source": [
    "# Add the linear regression equation and line to plot\n",
    "x_values = north_df['Latitude']\n",
    "y_values = north_df['Humidity']\n",
    "(slope, intercept, rvalue, pvalue, stderr) = linregress(x_values, y_values)\n",
    "regress_values = x_values * slope + intercept\n",
    "line_eq = \"y = \" + str(round(slope,2)) + \"x + \" + str(round(intercept,2))\n",
    "plt.scatter(x_values,y_values)\n",
    "plt.plot(x_values,regress_values,\"r-\")\n",
    "plt.annotate(line_eq,(5.8,0.8),fontsize=15,color=\"red\")\n",
    "plt.title('Northern Hemisphere - Humidity (%) vs. Latitude Linear Regression')\n",
    "plt.xlabel('Latitude')\n",
    "plt.ylabel('Humidity (f)')\n",
    "plt.show()"
   ]
  },
  {
   "cell_type": "markdown",
   "metadata": {},
   "source": [
    "####  Southern Hemisphere - Humidity (%) vs. Latitude Linear Regression"
   ]
  },
  {
   "cell_type": "code",
   "execution_count": 90,
   "metadata": {},
   "outputs": [
    {
     "data": {
      "image/png": "[encoded data removed]",
      "text/plain": [
       "<Figure size 432x288 with 1 Axes>"
      ]
     },
     "metadata": {
      "needs_background": "light"
     },
     "output_type": "display_data"
    }
   ],
   "source": [
    "# Add the linear regression equation and line to plot\n",
    "x_values = south_df['Latitude']\n",
    "y_values = south_df['Humidity']\n",
    "(slope, intercept, rvalue, pvalue, stderr) = linregress(x_values, y_values)\n",
    "regress_values = x_values * slope + intercept\n",
    "line_eq = \"y = \" + str(round(slope,2)) + \"x + \" + str(round(intercept,2))\n",
    "plt.scatter(x_values,y_values)\n",
    "plt.plot(x_values,regress_values,\"r-\")\n",
    "plt.annotate(line_eq,(5.8,0.8),fontsize=15,color=\"red\")\n",
    "plt.title('Southern Hemisphere - Humidity (%) vs. Latitude Linear Regression')\n",
    "plt.xlabel('Latitude')\n",
    "plt.ylabel('Humidity')\n",
    "plt.show()"
   ]
  },
  {
   "cell_type": "markdown",
   "metadata": {},
   "source": [
    "####  Northern Hemisphere - Cloudiness (%) vs. Latitude Linear Regression"
   ]
  },
  {
   "cell_type": "code",
   "execution_count": 91,
   "metadata": {},
   "outputs": [
    {
     "data": {
      "image/png": "[encoded data removed]",
      "text/plain": [
       "<Figure size 432x288 with 1 Axes>"
      ]
     },
     "metadata": {
      "needs_background": "light"
     },
     "output_type": "display_data"
    }
   ],
   "source": [
    "# Add the linear regression equation and line to plot\n",
    "x_values = north_df['Latitude']\n",
    "y_values = north_df['Clouds']\n",
    "(slope, intercept, rvalue, pvalue, stderr) = linregress(x_values, y_values)\n",
    "regress_values = x_values * slope + intercept\n",
    "line_eq = \"y = \" + str(round(slope,2)) + \"x + \" + str(round(intercept,2))\n",
    "plt.scatter(x_values,y_values)\n",
    "plt.plot(x_values,regress_values,\"r-\")\n",
    "plt.annotate(line_eq,(5.8,0.8),fontsize=15,color=\"red\")\n",
    "plt.title('Northern Hemisphere - Cloudiness (%) vs. Latitude Linear Regression')\n",
    "plt.xlabel('Latitude')\n",
    "plt.ylabel('Cloudiness %')\n",
    "plt.show()"
   ]
  },
  {
   "cell_type": "markdown",
   "metadata": {},
   "source": [
    "####  Southern Hemisphere - Cloudiness (%) vs. Latitude Linear Regression"
   ]
  },
  {
   "cell_type": "code",
   "execution_count": 92,
   "metadata": {},
   "outputs": [
    {
     "data": {
      "image/png": "[encoded data removed]",
      "text/plain": [
       "<Figure size 432x288 with 1 Axes>"
      ]
     },
     "metadata": {
      "needs_background": "light"
     },
     "output_type": "display_data"
    }
   ],
   "source": [
    "# Add the linear regression equation and line to plot\n",
    "x_values = south_df['Latitude']\n",
    "y_values = south_df['Clouds']\n",
    "(slope, intercept, rvalue, pvalue, stderr) = linregress(x_values, y_values)\n",
    "regress_values = x_values * slope + intercept\n",
    "line_eq = \"y = \" + str(round(slope,2)) + \"x + \" + str(round(intercept,2))\n",
    "plt.scatter(x_values,y_values)\n",
    "plt.plot(x_values,regress_values,\"r-\")\n",
    "plt.annotate(line_eq,(5.8,0.8),fontsize=15,color=\"red\")\n",
    "plt.xlabel('Latitude')\n",
    "plt.ylabel('Cloudiness %')\n",
    "plt.show()"
   ]
  },
  {
   "cell_type": "markdown",
   "metadata": {},
   "source": [
    "####  Northern Hemisphere - Wind Speed (mph) vs. Latitude Linear Regression"
   ]
  },
  {
   "cell_type": "code",
   "execution_count": 93,
   "metadata": {},
   "outputs": [
    {
     "data": {
      "image/png": "[encoded data removed]",
      "text/plain": [
       "<Figure size 432x288 with 1 Axes>"
      ]
     },
     "metadata": {
      "needs_background": "light"
     },
     "output_type": "display_data"
    }
   ],
   "source": [
    "# Add the linear regression equation and line to plot\n",
    "x_values = north_df['Latitude']\n",
    "y_values = north_df['Wind Speed']\n",
    "(slope, intercept, rvalue, pvalue, stderr) = linregress(x_values, y_values)\n",
    "regress_values = x_values * slope + intercept\n",
    "line_eq = \"y = \" + str(round(slope,2)) + \"x + \" + str(round(intercept,2))\n",
    "plt.scatter(x_values,y_values)\n",
    "plt.plot(x_values,regress_values,\"r-\")\n",
    "plt.annotate(line_eq,(5.8,0.8),fontsize=15,color=\"red\")\n",
    "plt.xlabel('Latitude')\n",
    "plt.ylabel('Wind Speed')\n",
    "plt.show()"
   ]
  },
  {
   "cell_type": "markdown",
   "metadata": {},
   "source": [
    "####  Southern Hemisphere - Wind Speed (mph) vs. Latitude Linear Regression"
   ]
  },
  {
   "cell_type": "code",
   "execution_count": 95,
   "metadata": {},
   "outputs": [
    {
     "data": {
      "image/png": "[encoded data removed]",
      "text/plain": [
       "<Figure size 432x288 with 1 Axes>"
      ]
     },
     "metadata": {
      "needs_background": "light"
     },
     "output_type": "display_data"
    }
   ],
   "source": [
    "# Add the linear regression equation and line to plot\n",
    "x_values = south_df['Latitude']\n",
    "y_values = south_df['Temp']\n",
    "(slope, intercept, rvalue, pvalue, stderr) = linregress(x_values, y_values)\n",
    "regress_values = x_values * slope + intercept\n",
    "line_eq = \"y = \" + str(round(slope,2)) + \"x + \" + str(round(intercept,2))\n",
    "plt.scatter(x_values,y_values)\n",
    "plt.plot(x_values,regress_values,\"r-\")\n",
    "plt.annotate(line_eq,(5.8,0.8),fontsize=15,color=\"red\")\n",
    "plt.xlabel('Latitude')\n",
    "plt.ylabel('Wind Speed')\n",
    "plt.show()"
   ]
  },
  {
   "cell_type": "code",
   "execution_count": null,
   "metadata": {},
   "outputs": [],
   "source": []
  }
 ],
 "metadata": {
  "anaconda-cloud": {},
  "kernel_info": {
   "name": "python3"
  },
  "kernelspec": {
   "display_name": "Python 3 (ipykernel)",
   "language": "python",
   "name": "python3"
  },
  "language_info": {
   "codemirror_mode": {
    "name": "ipython",
    "version": 3
   },
   "file_extension": ".py",
   "mimetype": "text/x-python",
   "name": "python",
   "nbconvert_exporter": "python",
   "pygments_lexer": "ipython3",
   "version": "3.8.13"
  },
  "latex_envs": {
   "LaTeX_envs_menu_present": true,
   "autoclose": false,
   "autocomplete": true,
   "bibliofile": "biblio.bib",
   "cite_by": "apalike",
   "current_citInitial": 1,
   "eqLabelWithNumbers": true,
   "eqNumInitial": 1,
   "hotkeys": {
    "equation": "Ctrl-E",
    "itemize": "Ctrl-I"
   },
   "labels_anchors": false,
   "latex_user_defs": false,
   "report_style_numbering": false,
   "user_envs_cfg": false
  },
  "nteract": {
   "version": "0.12.3"
  },
  "vscode": {
   "interpreter": {
    "hash": "28fbf62663af58e83c120b24022b22a4bf7ae7e3f21e1dcc78d79bfe2dce8aef"
   }
  }
 },
 "nbformat": 4,
 "nbformat_minor": 2
}
